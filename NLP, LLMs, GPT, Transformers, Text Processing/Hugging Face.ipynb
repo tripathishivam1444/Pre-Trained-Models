{
 "cells": [
  {
   "cell_type": "markdown",
   "id": "b0fd2e56-8711-4066-9d44-d90b9f2077d9",
   "metadata": {},
   "source": [
    "# https://youtu.be/ntz160EnWIc"
   ]
  },
  {
   "cell_type": "code",
   "execution_count": null,
   "id": "00f29bf2-407e-479b-b90a-6bd78e0db8e6",
   "metadata": {},
   "outputs": [],
   "source": [
    "q"
   ]
  },
  {
   "cell_type": "code",
   "execution_count": 12,
   "id": "d96d804b-09cd-4599-a7af-db65fd731de6",
   "metadata": {},
   "outputs": [],
   "source": [
    "from transformers import pipeline"
   ]
  },
  {
   "cell_type": "markdown",
   "id": "e9e03dc3-cc78-4ef9-8244-90317d38ea0c",
   "metadata": {},
   "source": [
    "#### pipline is use to use pretrained models for give task"
   ]
  },
  {
   "cell_type": "markdown",
   "id": "bf48cf3f-592e-44e2-845a-f234e4877b39",
   "metadata": {},
   "source": [
    "**Text--->**  \n",
    "1) pipline used to do Sentiment analysis,\n",
    "2) text Genration,\n",
    "3) Name entity Recognition (NER),\n",
    "4) Question Answring,\n",
    "5) Fill-Mask,\n",
    "6) Summarization,\n",
    "7) Translation,\n",
    "8) Frature Extraction"
   ]
  },
  {
   "cell_type": "markdown",
   "id": "5b9cd7cf-1f0c-4e8d-925e-241fd62c4ede",
   "metadata": {},
   "source": [
    "**Image--->**  \n",
    "1) Image Classifier: classify an Image\n",
    "2) Image Segmentation: Classify every pixel in an image.\n",
    "3) Object Detection: detect Objects within an image."
   ]
  },
  {
   "cell_type": "markdown",
   "id": "45d02438-6463-4682-8ec7-6e89d3a02a23",
   "metadata": {},
   "source": [
    "**Audio--->**\n",
    "1) Audio Classification\n",
    "2) Automatic Speech Recognition(ASR)"
   ]
  },
  {
   "cell_type": "code",
   "execution_count": 10,
   "id": "c98ca8e5-d955-42ae-bb3a-d83a2444f579",
   "metadata": {},
   "outputs": [
    {
     "name": "stderr",
     "output_type": "stream",
     "text": [
      "No model was supplied, defaulted to distilbert-base-uncased-finetuned-sst-2-english and revision af0f99b (https://huggingface.co/distilbert-base-uncased-finetuned-sst-2-english).\n",
      "Using a pipeline without specifying a model name and revision in production is not recommended.\n",
      "All PyTorch model weights were used when initializing TFDistilBertForSequenceClassification.\n",
      "\n",
      "All the weights of TFDistilBertForSequenceClassification were initialized from the PyTorch model.\n",
      "If your task is similar to the task the model of the checkpoint was trained on, you can already use TFDistilBertForSequenceClassification for predictions without further training.\n"
     ]
    }
   ],
   "source": [
    "classifier = pipeline(\"sentiment-analysis\")"
   ]
  },
  {
   "cell_type": "code",
   "execution_count": 9,
   "id": "30dfdac8-252e-4331-bd59-c0aa311ecf6c",
   "metadata": {},
   "outputs": [
    {
     "data": {
      "text/plain": [
       "[{'label': 'NEGATIVE', 'score': 0.5790525674819946}]"
      ]
     },
     "execution_count": 9,
     "metadata": {},
     "output_type": "execute_result"
    }
   ],
   "source": [
    "classifier(\"hello my nae is XYZ, how are you con you do that \")"
   ]
  },
  {
   "cell_type": "code",
   "execution_count": null,
   "id": "5d677af7-4a5c-4277-8b5a-75545071ab09",
   "metadata": {},
   "outputs": [],
   "source": []
  },
  {
   "cell_type": "code",
   "execution_count": null,
   "id": "1084cca1-8a47-4166-8f02-2b379be3ce77",
   "metadata": {},
   "outputs": [],
   "source": []
  },
  {
   "cell_type": "code",
   "execution_count": null,
   "id": "7b2b64f9-e956-4c8f-ac16-377904f76882",
   "metadata": {},
   "outputs": [],
   "source": []
  },
  {
   "cell_type": "code",
   "execution_count": null,
   "id": "51b47af8-1bb1-4424-8355-3073b4bc55a3",
   "metadata": {},
   "outputs": [],
   "source": []
  },
  {
   "cell_type": "code",
   "execution_count": null,
   "id": "9017cc73-a2fb-4ce8-9af8-e13c595c97a5",
   "metadata": {},
   "outputs": [],
   "source": []
  },
  {
   "cell_type": "code",
   "execution_count": null,
   "id": "46921a9a-a387-488b-98eb-d80ac231428d",
   "metadata": {},
   "outputs": [],
   "source": []
  },
  {
   "cell_type": "code",
   "execution_count": null,
   "id": "8cc9d19a-8157-4a8e-830f-9de125fc901a",
   "metadata": {},
   "outputs": [],
   "source": []
  },
  {
   "cell_type": "code",
   "execution_count": null,
   "id": "fe94e845-bfcb-4a26-8e10-163a129f494f",
   "metadata": {},
   "outputs": [],
   "source": []
  },
  {
   "cell_type": "code",
   "execution_count": null,
   "id": "14d98e4b-85ec-435d-bdcb-9d2b8e5ae328",
   "metadata": {},
   "outputs": [],
   "source": []
  },
  {
   "cell_type": "code",
   "execution_count": null,
   "id": "0dc4eaeb-3d32-40c6-b023-64c455f173e7",
   "metadata": {},
   "outputs": [],
   "source": []
  }
 ],
 "metadata": {
  "kernelspec": {
   "display_name": "Python 3 (ipykernel)",
   "language": "python",
   "name": "python3"
  },
  "language_info": {
   "codemirror_mode": {
    "name": "ipython",
    "version": 3
   },
   "file_extension": ".py",
   "mimetype": "text/x-python",
   "name": "python",
   "nbconvert_exporter": "python",
   "pygments_lexer": "ipython3",
   "version": "3.11.5"
  }
 },
 "nbformat": 4,
 "nbformat_minor": 5
}
