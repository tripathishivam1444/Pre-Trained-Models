{
 "cells": [
  {
   "cell_type": "markdown",
   "id": "b0fd2e56-8711-4066-9d44-d90b9f2077d9",
   "metadata": {},
   "source": [
    "# https://youtu.be/ntz160EnWIc"
   ]
  },
  {
   "cell_type": "code",
   "execution_count": null,
   "id": "00f29bf2-407e-479b-b90a-6bd78e0db8e6",
   "metadata": {},
   "outputs": [],
   "source": []
  },
  {
   "cell_type": "code",
   "execution_count": 7,
   "id": "d96d804b-09cd-4599-a7af-db65fd731de6",
   "metadata": {},
   "outputs": [],
   "source": [
    "from transformers import pipeline"
   ]
  },
  {
   "cell_type": "markdown",
   "id": "bf48cf3f-592e-44e2-845a-f234e4877b39",
   "metadata": {},
   "source": [
    "**Text--->**  \n",
    "1) pipline used to do Sentiment analysis,\n",
    "2) text Genration,\n",
    "3) Name entity Recognition (NER),\n",
    "4) Question Answring,\n",
    "5) Fill-Mask,\n",
    "6) Summarization,\n",
    "7) Translation,\n",
    "8) Frature Extraction"
   ]
  },
  {
   "cell_type": "markdown",
   "id": "e9e03dc3-cc78-4ef9-8244-90317d38ea0c",
   "metadata": {},
   "source": [
    "#### pipline is use to use pretrained models for give task"
   ]
  },
  {
   "cell_type": "markdown",
   "id": "5b9cd7cf-1f0c-4e8d-925e-241fd62c4ede",
   "metadata": {},
   "source": [
    "**Image--->**  \n",
    "1) Image Classifier: classify an Image\n",
    "2) Image Segmentation: Classify every pixel in an image.\n",
    "3) Object Detection: detect Objects within an image."
   ]
  },
  {
   "cell_type": "markdown",
   "id": "45d02438-6463-4682-8ec7-6e89d3a02a23",
   "metadata": {},
   "source": [
    "**Audio--->**\n",
    "1) Audio Classification\n",
    "2) Automatic Speech Recognition(ASR)"
   ]
  },
  {
   "cell_type": "code",
   "execution_count": 8,
   "id": "c98ca8e5-d955-42ae-bb3a-d83a2444f579",
   "metadata": {},
   "outputs": [
    {
     "name": "stderr",
     "output_type": "stream",
     "text": [
      "No model was supplied, defaulted to distilbert-base-uncased-finetuned-sst-2-english and revision af0f99b (https://huggingface.co/distilbert-base-uncased-finetuned-sst-2-english).\n",
      "Using a pipeline without specifying a model name and revision in production is not recommended.\n"
     ]
    },
    {
     "data": {
      "application/vnd.jupyter.widget-view+json": {
       "model_id": "3eb5cb21167d4f83994523722b973c86",
       "version_major": 2,
       "version_minor": 0
      },
      "text/plain": [
       "Downloading config.json:   0%|          | 0.00/629 [00:00<?, ?B/s]"
      ]
     },
     "metadata": {},
     "output_type": "display_data"
    },
    {
     "name": "stderr",
     "output_type": "stream",
     "text": [
      "c:\\Users\\bp_Utkarsh Tripathi\\AppData\\Local\\Programs\\Python\\Python311\\Lib\\site-packages\\huggingface_hub\\file_download.py:137: UserWarning: `huggingface_hub` cache-system uses symlinks by default to efficiently store duplicated files but your machine does not support them in C:\\Users\\bp_Utkarsh Tripathi\\.cache\\huggingface\\hub. Caching files will still work but in a degraded version that might require more space on your disk. This warning can be disabled by setting the `HF_HUB_DISABLE_SYMLINKS_WARNING` environment variable. For more details, see https://huggingface.co/docs/huggingface_hub/how-to-cache#limitations.\n",
      "To support symlinks on Windows, you either need to activate Developer Mode or to run Python as an administrator. In order to see activate developer mode, see this article: https://docs.microsoft.com/en-us/windows/apps/get-started/enable-your-device-for-development\n",
      "  warnings.warn(message)\n"
     ]
    },
    {
     "data": {
      "application/vnd.jupyter.widget-view+json": {
       "model_id": "d0172dce50dd4edd98e05207cfc84026",
       "version_major": 2,
       "version_minor": 0
      },
      "text/plain": [
       "Downloading model.safetensors:   0%|          | 0.00/268M [00:00<?, ?B/s]"
      ]
     },
     "metadata": {},
     "output_type": "display_data"
    },
    {
     "data": {
      "application/vnd.jupyter.widget-view+json": {
       "model_id": "eab90d984f294f10a1a105053db5916d",
       "version_major": 2,
       "version_minor": 0
      },
      "text/plain": [
       "Downloading tokenizer_config.json:   0%|          | 0.00/48.0 [00:00<?, ?B/s]"
      ]
     },
     "metadata": {},
     "output_type": "display_data"
    },
    {
     "data": {
      "application/vnd.jupyter.widget-view+json": {
       "model_id": "fc43887b8382497d9cfd95f559ddbff9",
       "version_major": 2,
       "version_minor": 0
      },
      "text/plain": [
       "Downloading vocab.txt:   0%|          | 0.00/232k [00:00<?, ?B/s]"
      ]
     },
     "metadata": {},
     "output_type": "display_data"
    }
   ],
   "source": [
    "classifier = pipeline(\"sentiment-analysis\")"
   ]
  },
  {
   "cell_type": "code",
   "execution_count": 14,
   "id": "30dfdac8-252e-4331-bd59-c0aa311ecf6c",
   "metadata": {},
   "outputs": [
    {
     "data": {
      "text/plain": [
       "{'label': 'NEGATIVE', 'score': 0.5790503621101379}"
      ]
     },
     "execution_count": 14,
     "metadata": {},
     "output_type": "execute_result"
    }
   ],
   "source": [
    "classifier(\"hello my nae is XYZ, how are you con you do that \")[0]"
   ]
  },
  {
   "cell_type": "code",
   "execution_count": 16,
   "id": "5d677af7-4a5c-4277-8b5a-75545071ab09",
   "metadata": {},
   "outputs": [
    {
     "name": "stdout",
     "output_type": "stream",
     "text": [
      "Running on local URL:  http://127.0.0.1:7861\n",
      "\n",
      "To create a public link, set `share=True` in `launch()`.\n"
     ]
    },
    {
     "data": {
      "text/html": [
       "<div><iframe src=\"http://127.0.0.1:7861/\" width=\"100%\" height=\"500\" allow=\"autoplay; camera; microphone; clipboard-read; clipboard-write;\" frameborder=\"0\" allowfullscreen></iframe></div>"
      ],
      "text/plain": [
       "<IPython.core.display.HTML object>"
      ]
     },
     "metadata": {},
     "output_type": "display_data"
    },
    {
     "data": {
      "text/plain": []
     },
     "execution_count": 16,
     "metadata": {},
     "output_type": "execute_result"
    }
   ],
   "source": [
    "import gradio as gr\n",
    "\n",
    "iface = gr.Interface(fn=classifier, inputs=\"text\", outputs=gr.Textbox())\n",
    "iface.launch()\n"
   ]
  },
  {
   "cell_type": "code",
   "execution_count": 4,
   "id": "1084cca1-8a47-4166-8f02-2b379be3ce77",
   "metadata": {},
   "outputs": [
    {
     "ename": "KeyError",
     "evalue": "0",
     "output_type": "error",
     "traceback": [
      "\u001b[1;31m---------------------------------------------------------------------------\u001b[0m",
      "\u001b[1;31mKeyError\u001b[0m                                  Traceback (most recent call last)",
      "\u001b[1;32mc:\\Users\\bp_Utkarsh Tripathi\\Desktop\\Learning\\NLP\\Pre-trained models\\Hugging Face.ipynb Cell 11\u001b[0m line \u001b[0;36m1\n\u001b[1;32m----> <a href='vscode-notebook-cell:/c%3A/Users/bp_Utkarsh%20Tripathi/Desktop/Learning/NLP/Pre-trained%20models/Hugging%20Face.ipynb#X13sZmlsZQ%3D%3D?line=0'>1</a>\u001b[0m [{\u001b[39m'\u001b[39;49m\u001b[39mlabel\u001b[39;49m\u001b[39m'\u001b[39;49m: \u001b[39m'\u001b[39;49m\u001b[39mNEGATIVE\u001b[39;49m\u001b[39m'\u001b[39;49m, \u001b[39m'\u001b[39;49m\u001b[39mscore\u001b[39;49m\u001b[39m'\u001b[39;49m: \u001b[39m0.5790525674819946\u001b[39;49m}][\u001b[39m0\u001b[39;49m][\u001b[39m0\u001b[39;49m]\n",
      "\u001b[1;31mKeyError\u001b[0m: 0"
     ]
    }
   ],
   "source": [
    "[{'label': 'NEGATIVE', 'score': 0.5790525674819946}][0]"
   ]
  },
  {
   "cell_type": "code",
   "execution_count": null,
   "id": "7b2b64f9-e956-4c8f-ac16-377904f76882",
   "metadata": {},
   "outputs": [],
   "source": []
  },
  {
   "cell_type": "code",
   "execution_count": null,
   "id": "51b47af8-1bb1-4424-8355-3073b4bc55a3",
   "metadata": {},
   "outputs": [],
   "source": []
  },
  {
   "cell_type": "code",
   "execution_count": null,
   "id": "9017cc73-a2fb-4ce8-9af8-e13c595c97a5",
   "metadata": {},
   "outputs": [],
   "source": []
  },
  {
   "cell_type": "code",
   "execution_count": null,
   "id": "46921a9a-a387-488b-98eb-d80ac231428d",
   "metadata": {},
   "outputs": [],
   "source": []
  },
  {
   "cell_type": "code",
   "execution_count": null,
   "id": "8cc9d19a-8157-4a8e-830f-9de125fc901a",
   "metadata": {},
   "outputs": [],
   "source": []
  },
  {
   "cell_type": "code",
   "execution_count": null,
   "id": "fe94e845-bfcb-4a26-8e10-163a129f494f",
   "metadata": {},
   "outputs": [],
   "source": []
  },
  {
   "cell_type": "code",
   "execution_count": null,
   "id": "14d98e4b-85ec-435d-bdcb-9d2b8e5ae328",
   "metadata": {},
   "outputs": [],
   "source": []
  },
  {
   "cell_type": "code",
   "execution_count": null,
   "id": "0dc4eaeb-3d32-40c6-b023-64c455f173e7",
   "metadata": {},
   "outputs": [],
   "source": []
  }
 ],
 "metadata": {
  "kernelspec": {
   "display_name": "Python 3 (ipykernel)",
   "language": "python",
   "name": "python3"
  },
  "language_info": {
   "codemirror_mode": {
    "name": "ipython",
    "version": 3
   },
   "file_extension": ".py",
   "mimetype": "text/x-python",
   "name": "python",
   "nbconvert_exporter": "python",
   "pygments_lexer": "ipython3",
   "version": "3.11.5"
  }
 },
 "nbformat": 4,
 "nbformat_minor": 5
}
